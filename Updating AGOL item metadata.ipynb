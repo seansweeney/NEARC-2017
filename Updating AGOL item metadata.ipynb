{
 "cells": [
  {
   "cell_type": "markdown",
   "metadata": {},
   "source": [
    "##### Import the GIS module and other needed Python modules\n",
    "\n",
    "\n",
    "The IPython.display module has some helper functions that the Python API takes advantage of for displaying objects like item details and maps in the notebook."
   ]
  },
  {
   "cell_type": "code",
   "execution_count": null,
   "metadata": {
    "collapsed": true
   },
   "outputs": [],
   "source": [
    "from arcgis.gis import GIS\n",
    "from getpass import getpass\n",
    "from IPython.display import display"
   ]
  },
  {
   "cell_type": "markdown",
   "metadata": {},
   "source": [
    "##### Create the GIS object and point it to AGOL"
   ]
  },
  {
   "cell_type": "code",
   "execution_count": null,
   "metadata": {},
   "outputs": [],
   "source": [
    "# Get username and password\n",
    "username = input('Username: ')\n",
    "password = getpass(prompt='Password: ')"
   ]
  },
  {
   "cell_type": "code",
   "execution_count": null,
   "metadata": {},
   "outputs": [],
   "source": [
    "# Connect to portal\n",
    "gis = GIS(\"https://arcgis.com/\", username, password)"
   ]
  },
  {
   "cell_type": "markdown",
   "metadata": {},
   "source": [
    "##### Test the connection\n",
    "The output here is an example of the Python API taking advantage of IPython.display."
   ]
  },
  {
   "cell_type": "code",
   "execution_count": null,
   "metadata": {},
   "outputs": [],
   "source": [
    "user = gis.users.get(username)\n",
    "user"
   ]
  },
  {
   "cell_type": "markdown",
   "metadata": {},
   "source": [
    "##### Get the item that you want to update\n",
    "> Portals allows users to store and share a variety of items. Each item has a type, such as Web Map or Feature Service, and a set of type keywords that provide additional information on the characteristics of the type.\n",
    "\n",
    "See [Items and item types](http://resources.arcgis.com/en/help/arcgis-rest-api/index.html#/Items_and_item_types/02r3000000ms000000/) for more information."
   ]
  },
  {
   "cell_type": "code",
   "execution_count": null,
   "metadata": {},
   "outputs": [],
   "source": [
    "title = input(\"Feature class to search for: \")"
   ]
  },
  {
   "cell_type": "code",
   "execution_count": null,
   "metadata": {},
   "outputs": [],
   "source": [
    "items = gis.content.search(query=\"title:'\" + title + \"' AND owner:\" + username, item_type=\"Feature Service\")\n",
    "print(type(items), len(items))\n",
    "print(type(items[0]))"
   ]
  },
  {
   "cell_type": "code",
   "execution_count": null,
   "metadata": {},
   "outputs": [],
   "source": [
    "item = items[0]\n",
    "item"
   ]
  },
  {
   "cell_type": "code",
   "execution_count": null,
   "metadata": {},
   "outputs": [],
   "source": [
    "item.tags"
   ]
  },
  {
   "cell_type": "markdown",
   "metadata": {},
   "source": [
    "##### Update the metadata"
   ]
  },
  {
   "cell_type": "code",
   "execution_count": null,
   "metadata": {
    "collapsed": true
   },
   "outputs": [],
   "source": [
    "# First set up some variables for input ot the *update* method.\n",
    "thumbnail_path = \"c:/temp/Hospitals.JPG\"\n",
    "tags = list(item.tags)\n",
    "tags.append(\"health\")\n",
    "item_properties = {\"snippet\": \"Location of Cambridge hospitals.\",\n",
    "                   \"title\": \"Cambridge Hospitals\",\n",
    "                   \"tags\": ','.join(tags),\n",
    "                   \"accessinformation\": \"City of Cambridge GIS\",\n",
    "                   \"licenseInfo\": \"License Info\"\n",
    "}"
   ]
  },
  {
   "cell_type": "code",
   "execution_count": null,
   "metadata": {},
   "outputs": [],
   "source": [
    "# Then perform the update\n",
    "item.update(item_properties, thumbnail=thumbnail_path)\n",
    "item"
   ]
  },
  {
   "cell_type": "code",
   "execution_count": null,
   "metadata": {},
   "outputs": [],
   "source": [
    "# Get the updated *item*\n",
    "items[0].tags"
   ]
  },
  {
   "cell_type": "markdown",
   "metadata": {},
   "source": [
    "##### Final code\n",
    "\n",
    "Removing the display code and reducing the above to just what's needed to update the metadata shows that the Python API requires very little code to update an *item*'s metadata.  Error handling would need to be added for production, but that is required whether you use the Python API or interact with the REST API directly.\n",
    "\n",
    "```python\n",
    "# ##### Import the GIS module and other needed Python modules\n",
    "from arcgis.gis import GIS\n",
    "from getpass import getpass\n",
    "\n",
    "# ##### Create the GIS object and point it to AGOL\n",
    "# Get username and password\n",
    "username = input('Username: ')\n",
    "password = getpass(prompt='Password: ')\n",
    "\n",
    "# Connect to portal\n",
    "gis = GIS(\"https://arcgis.com/\", username, password)\n",
    "\n",
    "\n",
    "# ##### Get the item that you want to update\n",
    "title = input(\"Feature class to search for: \")\n",
    "\n",
    "items = gis.content.search(query=\"title:'\" + title + \"' AND owner:\" + username, item_type=\"Feature Service\")\n",
    "item = items[0]\n",
    "\n",
    "# ##### Update the metadata\n",
    "# First set up some variables for input ot the *update* method.\n",
    "thumbnail_path = \"c:/temp/Hospitals.JPG\"\n",
    "tags = list(item.tags)\n",
    "tags.append(\"health\")\n",
    "item_properties = {\"snippet\": \"Location of Cambridge hospitals.\",\n",
    "                   \"title\": \"Cambridge Hospitals\",\n",
    "                   \"tags\": ','.join(tags),\n",
    "                   \"accessinformation\": \"City of Cambridge GIS\",\n",
    "                   \"licenseInfo\": \"License Info\"\n",
    "}\n",
    "\n",
    "\n",
    "# Then perform the update\n",
    "item.update(item_properties, thumbnail=thumbnail_path)\n",
    "\n",
    "```"
   ]
  }
 ],
 "metadata": {
  "kernelspec": {
   "display_name": "Python 3",
   "language": "python",
   "name": "python3"
  },
  "language_info": {
   "codemirror_mode": {
    "name": "ipython",
    "version": 3
   },
   "file_extension": ".py",
   "mimetype": "text/x-python",
   "name": "python",
   "nbconvert_exporter": "python",
   "pygments_lexer": "ipython3",
   "version": "3.5.3"
  }
 },
 "nbformat": 4,
 "nbformat_minor": 2
}
