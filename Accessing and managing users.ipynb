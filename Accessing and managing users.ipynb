{
 "cells": [
  {
   "cell_type": "markdown",
   "metadata": {},
   "source": [
    "##### Import the GIS module and other needed Python modules\n",
    "\n",
    "\n",
    "The IPython.display module has some helper functions that the Python API takes advantage of for displaying objects like item details and maps in the notebook."
   ]
  },
  {
   "cell_type": "code",
   "execution_count": null,
   "metadata": {
    "collapsed": true
   },
   "outputs": [],
   "source": [
    "from arcgis.gis import GIS\n",
    "from getpass import getpass\n",
    "from IPython.display import display"
   ]
  },
  {
   "cell_type": "markdown",
   "metadata": {},
   "source": [
    "##### Create the GIS object and point it to AGOL"
   ]
  },
  {
   "cell_type": "code",
   "execution_count": null,
   "metadata": {},
   "outputs": [],
   "source": [
    "# Get username and password\n",
    "username = input('Username: ')\n",
    "password = getpass(prompt='Password: ')"
   ]
  },
  {
   "cell_type": "code",
   "execution_count": null,
   "metadata": {
    "collapsed": true
   },
   "outputs": [],
   "source": [
    "# Connect to portal\n",
    "gis = GIS(\"https://arcgis.com/\", username, password)"
   ]
  },
  {
   "cell_type": "markdown",
   "metadata": {},
   "source": [
    "##### Test the connection\n",
    "The output here is an example of the Python API taking advantage of IPython.display.  The *me* property gives you a direct shortcut to the *User* object for the logged in user. "
   ]
  },
  {
   "cell_type": "code",
   "execution_count": null,
   "metadata": {},
   "outputs": [],
   "source": [
    "me = gis.users.me\n",
    "me"
   ]
  },
  {
   "cell_type": "markdown",
   "metadata": {},
   "source": [
    "You can also search for other users."
   ]
  },
  {
   "cell_type": "code",
   "execution_count": null,
   "metadata": {},
   "outputs": [],
   "source": [
    "username = input('Username: ')"
   ]
  },
  {
   "cell_type": "code",
   "execution_count": null,
   "metadata": {},
   "outputs": [],
   "source": [
    "user = gis.users.get(username)\n",
    "user"
   ]
  },
  {
   "cell_type": "markdown",
   "metadata": {},
   "source": [
    "##### User properties\n",
    "\n",
    "There are a number of properties that can be accessed the *user* resource.  The full list can be found here: [User](http://resources.arcgis.com/en/help/arcgis-rest-api/#/User/02r3000000m2000000/)."
   ]
  },
  {
   "cell_type": "code",
   "execution_count": null,
   "metadata": {},
   "outputs": [],
   "source": [
    "print(\"Description: {}\\nEmail: {}\\nLast Name: {}\\nFirst Name: {}\\nName: {}\\nLevel: {}\\nMFA Enabled: {}\".format(me.description, me.email, me.firstName, me.lastName, me.fullName, me.level, me.mfaEnabled))\n",
    "\n",
    "user_groups = me.groups\n",
    "print(\"Member of \" + str(len(user_groups)) + \" groups\")"
   ]
  },
  {
   "cell_type": "markdown",
   "metadata": {},
   "source": [
    "The Python *time* module can be used to display time values in human readable form.\n",
    "\n",
    "ArcGIS Online stores time in **milliseconds** since the epoch, but the Python time library is expecting **seconds** since the epoch (aka Unix time, epoch time), so the AGOL times need to be divided by 1000 when using the *time* module."
   ]
  },
  {
   "cell_type": "code",
   "execution_count": null,
   "metadata": {},
   "outputs": [],
   "source": [
    "import time\n",
    "\n",
    "created_time = time.localtime(me.created/1000)\n",
    "print(\"Created: {}/{}/{}\".format(created_time[1], created_time[2], created_time[0]))\n",
    "\n",
    "last_accessed = time.localtime(me.lastLogin/1000)\n",
    "print(\"Last active: {}/{}/{}\".format(last_accessed[1], last_accessed[2], last_accessed[0]))"
   ]
  },
  {
   "cell_type": "markdown",
   "metadata": {},
   "source": [
    "##### Searching for user accounts\n",
    "Parameters here: http://resources.arcgis.com/en/help/arcgis-rest-api/index.html#//02r30000009v000000  \n",
    "and here: http://resources.arcgis.com/en/help/arcgis-rest-api/#/Search_reference/02r3000000mn000000/\n",
    "\n",
    "The *gis.users.search* method allows you to perform search operations using wildcards."
   ]
  },
  {
   "cell_type": "code",
   "execution_count": null,
   "metadata": {},
   "outputs": [],
   "source": [
    "tpt_users = gis.users.search('username:tpt_*',max_users=10000)\n",
    "len(tpt_users)"
   ]
  },
  {
   "cell_type": "markdown",
   "metadata": {},
   "source": [
    "The power of Python can also be used to search for specific patterns."
   ]
  },
  {
   "cell_type": "code",
   "execution_count": null,
   "metadata": {},
   "outputs": [],
   "source": [
    "# Get a list of all users\n",
    "all_users = gis.users.search(None, max_users=500)\n",
    "len(all_users)"
   ]
  },
  {
   "cell_type": "code",
   "execution_count": null,
   "metadata": {},
   "outputs": [],
   "source": [
    "# Use list comprehension to create a subset list of disabled users\n",
    "disabled_users = [user for user in all_users if user.disabled == True]\n",
    "len(disabled_users)"
   ]
  },
  {
   "cell_type": "markdown",
   "metadata": {},
   "source": [
    "##### Finding the items owned by users\n",
    "Items are either in a folder or not.  The latter are called root items.  There can only be one folder level, so only one level needs to be traversed."
   ]
  },
  {
   "cell_type": "code",
   "execution_count": null,
   "metadata": {},
   "outputs": [],
   "source": [
    "for user in disabled_users:\n",
    "    print(user.fullName + \" (\" + user.username + \")\")\n",
    "    # user.items() returns a list of root items.\n",
    "    total_items = len(user.items())\n",
    "    print(\"Root items:\" + str(total_items))\n",
    "    # user.folders returns a list of folders\n",
    "    folders = user.folders\n",
    "    print(\"Folders: \" + str(len(folders)))\n",
    "    for folder in folders:\n",
    "        # The folder parameter on user.items() returns a list of items in the given folder\n",
    "        folder_items = len(user.items(folder = folder))\n",
    "        print(\"Folder \" + folder[\"title\"] + \" items:\" + str(folder_items))\n",
    "        total_items += folder_items\n",
    "\n",
    "    print(\"Total items: \" + str(total_items))\n",
    "    print(\"=\" * 25)"
   ]
  }
 ],
 "metadata": {
  "kernelspec": {
   "display_name": "Python 3",
   "language": "python",
   "name": "python3"
  },
  "language_info": {
   "codemirror_mode": {
    "name": "ipython",
    "version": 3
   },
   "file_extension": ".py",
   "mimetype": "text/x-python",
   "name": "python",
   "nbconvert_exporter": "python",
   "pygments_lexer": "ipython3",
   "version": "3.5.3"
  }
 },
 "nbformat": 4,
 "nbformat_minor": 2
}
