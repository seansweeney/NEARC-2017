{
 "cells": [
  {
   "cell_type": "markdown",
   "metadata": {},
   "source": [
    "##### Import the GIS module and other needed Python modules\n",
    "\n",
    "\n",
    "The IPython.display module has some helper functions that the Python API takes advantage of for displaying objects like item details and maps in the notebook."
   ]
  },
  {
   "cell_type": "code",
   "execution_count": 1,
   "metadata": {
    "collapsed": true
   },
   "outputs": [],
   "source": [
    "from arcgis.gis import GIS\n",
    "from getpass import getpass\n",
    "from IPython.display import display"
   ]
  },
  {
   "cell_type": "markdown",
   "metadata": {},
   "source": [
    "##### Create the GIS object and point it to AGOL"
   ]
  },
  {
   "cell_type": "code",
   "execution_count": 4,
   "metadata": {},
   "outputs": [
    {
     "name": "stdout",
     "output_type": "stream",
     "text": [
      "Username: cambgis_sean\n",
      "Password: ········\n"
     ]
    }
   ],
   "source": [
    "# Get username and password\n",
    "username = input('Username: ')\n",
    "password = getpass(prompt='Password: ')"
   ]
  },
  {
   "cell_type": "code",
   "execution_count": 5,
   "metadata": {},
   "outputs": [],
   "source": [
    "# Connect to portal\n",
    "gis = GIS(\"https://arcgis.com/\", username, password)"
   ]
  },
  {
   "cell_type": "markdown",
   "metadata": {},
   "source": [
    "##### Test the connection\n",
    "The output here is an example of the Python API taking advantage of IPython.display.  The *me* property gives you a direct shortcut to the *User* object for the logged in user. "
   ]
  },
  {
   "cell_type": "code",
   "execution_count": 6,
   "metadata": {},
   "outputs": [
    {
     "data": {
      "text/html": [
       "<div class=\"9item_container\" style=\"height: auto; overflow: hidden; border: 1px solid #cfcfcf; border-radius: 2px; background: #f6fafa; line-height: 1.21429em; padding: 10px;\">\n",
       "                    <div class=\"item_left\" style=\"width: 210px; float: left;\">\n",
       "                       <a href='https://arcgis.com//home/user.html?user=cambgis_sean' target='_blank'>\n",
       "                        <img src='data:image/png;base64,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' width='200' height='133' class=\"itemThumbnail\">\n",
       "                       </a>\n",
       "                    </div>\n",
       "\n",
       "                    <div class=\"item_right\" style=\"float: none; width: auto; overflow: hidden;\">\n",
       "                        <a href='https://arcgis.com//home/user.html?user=cambgis_sean' target='_blank'><b>Sean Sweeney</b>\n",
       "                        </a>\n",
       "                        <br><br><b>Bio</b>: GIS Programmer Analyst for the City of Cambridge, MA\n",
       "                        <br><b>First Name</b>: Sean\n",
       "                        <br><b>Last Name</b>: Sweeney\n",
       "                        <br><b>Username</b>: cambgis_sean\n",
       "                        <br><b>Joined</b>: March 15, 2012\n",
       "\n",
       "                    </div>\n",
       "                </div>\n",
       "                "
      ],
      "text/plain": [
       "<User username:cambgis_sean>"
      ]
     },
     "execution_count": 6,
     "metadata": {},
     "output_type": "execute_result"
    }
   ],
   "source": [
    "me = gis.users.me\n",
    "me"
   ]
  },
  {
   "cell_type": "markdown",
   "metadata": {},
   "source": [
    "You can also search for other users."
   ]
  },
  {
   "cell_type": "code",
   "execution_count": 8,
   "metadata": {},
   "outputs": [
    {
     "name": "stdout",
     "output_type": "stream",
     "text": [
      "Username: cambgis_user\n"
     ]
    }
   ],
   "source": [
    "username = input('Username: ')"
   ]
  },
  {
   "cell_type": "code",
   "execution_count": 9,
   "metadata": {},
   "outputs": [
    {
     "data": {
      "text/html": [
       "<div class=\"9item_container\" style=\"height: auto; overflow: hidden; border: 1px solid #cfcfcf; border-radius: 2px; background: #f6fafa; line-height: 1.21429em; padding: 10px;\">\n",
       "                    <div class=\"item_left\" style=\"width: 210px; float: left;\">\n",
       "                       <a href='https://arcgis.com//home/user.html?user=cambgis_user' target='_blank'>\n",
       "                        <img src='http://www.arcgis.com/home/js/arcgisonline/css/images/no-user-thumb.jpg' class=\"itemThumbnail\">\n",
       "                       </a>\n",
       "                    </div>\n",
       "\n",
       "                    <div class=\"item_right\" style=\"float: none; width: auto; overflow: hidden;\">\n",
       "                        <a href='https://arcgis.com//home/user.html?user=cambgis_user' target='_blank'><b>Cambridge GISuser</b>\n",
       "                        </a>\n",
       "                        <br><br><b>Bio</b>: \n",
       "                        <br><b>First Name</b>: Not Provided\n",
       "                        <br><b>Last Name</b>: Not Provided\n",
       "                        <br><b>Username</b>: cambgis_user\n",
       "                        <br><b>Joined</b>: October 09, 2013\n",
       "\n",
       "                    </div>\n",
       "                </div>\n",
       "                "
      ],
      "text/plain": [
       "<User username:cambgis_user>"
      ]
     },
     "execution_count": 9,
     "metadata": {},
     "output_type": "execute_result"
    }
   ],
   "source": [
    "user = gis.users.get(username)\n",
    "user"
   ]
  },
  {
   "cell_type": "markdown",
   "metadata": {},
   "source": [
    "##### User properties\n",
    "\n",
    "There are a number of properties that can be accessed the *user* resource.  The full list can be found here: [User](http://resources.arcgis.com/en/help/arcgis-rest-api/#/User/02r3000000m2000000/)."
   ]
  },
  {
   "cell_type": "code",
   "execution_count": 10,
   "metadata": {},
   "outputs": [
    {
     "name": "stdout",
     "output_type": "stream",
     "text": [
      "Description: GIS Programmer Analyst for the City of Cambridge, MA\n",
      "Email: ssweeney@cambridgema.gov\n",
      "Last Name: Sean\n",
      "First Name: Sweeney\n",
      "Name: Sean Sweeney\n",
      "Level: 2\n",
      "MFA Enabled: False\n",
      "Member of 22 groups\n"
     ]
    }
   ],
   "source": [
    "print(\"Description: {}\\nEmail: {}\\nLast Name: {}\\nFirst Name: {}\\nName: {}\\nLevel: {}\\nMFA Enabled: {}\".format(me.description, me.email, me.firstName, me.lastName, me.fullName, me.level, me.mfaEnabled))\n",
    "\n",
    "user_groups = me.groups\n",
    "print(\"Member of \" + str(len(user_groups)) + \" groups\")"
   ]
  },
  {
   "cell_type": "markdown",
   "metadata": {},
   "source": [
    "The Python *time* module can be used to display time values in human readable form.\n",
    "\n",
    "ArcGIS Online stores time in **milliseconds** since the epoch, but the Python time library is expecting **seconds** since the epoch (aka Unix time, epoch time), so the AGOL times need to be divided by 1000 when using the *time* module."
   ]
  },
  {
   "cell_type": "code",
   "execution_count": null,
   "metadata": {
    "collapsed": true
   },
   "outputs": [],
   "source": [
    "import time\n",
    "\n",
    "created_time = time.localtime(me.created/1000)\n",
    "print(\"Created: {}/{}/{}\".format(created_time[1], created_time[2], created_time[0]))\n",
    "\n",
    "last_accessed = time.localtime(me.lastLogin/1000)\n",
    "print(\"Last active: {}/{}/{}\".format(last_accessed[1], last_accessed[2], last_accessed[0]))"
   ]
  },
  {
   "cell_type": "markdown",
   "metadata": {},
   "source": [
    "##### Searching for user accounts\n",
    "Parameters here: http://resources.arcgis.com/en/help/arcgis-rest-api/index.html#//02r30000009v000000  \n",
    "and here: http://resources.arcgis.com/en/help/arcgis-rest-api/#/Search_reference/02r3000000mn000000/\n",
    "\n",
    "The *gis.users.search* method allows you to perform search operations using wildcards."
   ]
  },
  {
   "cell_type": "code",
   "execution_count": 11,
   "metadata": {},
   "outputs": [
    {
     "data": {
      "text/plain": [
       "6"
      ]
     },
     "execution_count": 11,
     "metadata": {},
     "output_type": "execute_result"
    }
   ],
   "source": [
    "tpt_users = gis.users.search('username:tpt_*',max_users=10000)\n",
    "len(tpt_users)"
   ]
  },
  {
   "cell_type": "markdown",
   "metadata": {},
   "source": [
    "The power of Python can also be used to search for specific patterns."
   ]
  },
  {
   "cell_type": "code",
   "execution_count": 12,
   "metadata": {},
   "outputs": [
    {
     "data": {
      "text/plain": [
       "194"
      ]
     },
     "execution_count": 12,
     "metadata": {},
     "output_type": "execute_result"
    }
   ],
   "source": [
    "# Get a list of all users\n",
    "all_users = gis.users.search(None, max_users=500)\n",
    "len(all_users)"
   ]
  },
  {
   "cell_type": "code",
   "execution_count": 13,
   "metadata": {},
   "outputs": [
    {
     "data": {
      "text/plain": [
       "44"
      ]
     },
     "execution_count": 13,
     "metadata": {},
     "output_type": "execute_result"
    }
   ],
   "source": [
    "# Use list comprehension to create a subset list of disabled users\n",
    "disabled_users = [user for user in all_users if user.disabled == True]\n",
    "len(disabled_users)"
   ]
  },
  {
   "cell_type": "markdown",
   "metadata": {},
   "source": [
    "##### Finding the items owned by users\n",
    "Items are either in a folder or not.  The latter are called root items.  There can only be one folder level, so only one level needs to be traversed."
   ]
  },
  {
   "cell_type": "code",
   "execution_count": null,
   "metadata": {},
   "outputs": [],
   "source": [
    "from operator import attrgetter\n",
    "\n",
    "for user in sorted(disabled_users, key=attrgetter('lastName', 'firstName')):\n",
    "    print(user.fullName + \" (\" + user.username + \")\")\n",
    "    # user.items() returns a list of root items.\n",
    "    total_items = len(user.items())\n",
    "    print(\"Root items:\" + str(total_items))\n",
    "    # user.folders returns a list of folders\n",
    "    folders = user.folders\n",
    "    print(\"Folders: \" + str(len(folders)))\n",
    "    for folder in folders:\n",
    "        # The folder parameter on user.items() returns a list of items in the given folder\n",
    "        folder_items = len(user.items(folder = folder))\n",
    "        print(\"Folder \" + folder[\"title\"] + \" items:\" + str(folder_items))\n",
    "        total_items += folder_items\n",
    "\n",
    "    print(\"Total items: \" + str(total_items))\n",
    "    print(\"=\" * 25)"
   ]
  },
  {
   "cell_type": "code",
   "execution_count": null,
   "metadata": {
    "collapsed": true
   },
   "outputs": [],
   "source": []
  }
 ],
 "metadata": {
  "kernelspec": {
   "display_name": "Python 3",
   "language": "python",
   "name": "python3"
  },
  "language_info": {
   "codemirror_mode": {
    "name": "ipython",
    "version": 3
   },
   "file_extension": ".py",
   "mimetype": "text/x-python",
   "name": "python",
   "nbconvert_exporter": "python",
   "pygments_lexer": "ipython3",
   "version": "3.5.3"
  }
 },
 "nbformat": 4,
 "nbformat_minor": 2
}
